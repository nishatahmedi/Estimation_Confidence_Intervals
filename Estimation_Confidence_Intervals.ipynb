{
 "cells": [
  {
   "cell_type": "markdown",
   "id": "334148e9-521e-4e6f-94ed-94d22e3954de",
   "metadata": {},
   "source": [
    "## A total of 15 print-heads were randomly selected and tested until failure. The durability of each print-head (in millions of characters) was recorded as follows:\n",
    "1.13, 1.55, 1.43, 0.92, 1.25, 1.36, 1.32, 0.85, 1.07, 1.48, 1.20, 1.33, 1.18, 1.22, 1.29\n",
    "\n",
    "## Assignment Tasks\n",
    "a. Build 99% Confidence Interval Using Sample Standard Deviation\n",
    "Assuming the sample is representative of the population, construct a 99% confidence interval for the mean number of characters printed before the print-head fails using the sample standard deviation. Explain the steps you take and the rationale behind using the t-distribution for this task.\n",
    "\n",
    "\n",
    "b. Build 99% Confidence Interval Using Known Population Standard Deviation\n",
    "If it were known that the population standard deviation is 0.2 million characters, construct a 99% confidence interval for the mean number of characters printed before failure.\n"
   ]
  },
  {
   "cell_type": "markdown",
   "id": "82fd261b-df84-4c75-b44c-1abad71f2a9c",
   "metadata": {},
   "source": [
    "Steps to Construct the Confidence Interval Using Sample Standard Deviation:\n",
    "Calculate Sample Statistics:\n",
    "\n",
    "Mean (x̄) and Standard Deviation (𝑠) from your sample data.\n",
    "Find the t-Score:\n",
    "\n",
    "Determine the t-score for 99% confidence with degrees of freedom 𝑛−1\n",
    "n−1 (where n is the sample size). This accounts for the added uncertainty of estimating the population standard deviation.\n",
    "Construct the Interval:\n",
    "\n",
    "Use the formula: CI= x ˉ ±t α/2 ​ ×( n ​ s ​ )\n",
    "\n",
    "This gives you the range within which the true population mean is expected to fall with 99% confidence.\n",
    "\n",
    "Rationale for Using the t-Distribution:\n",
    "Small Sample Size: The t-distribution is used instead of the normal distribution because it accounts for the extra variability in small samples when estimating the population standard deviation.\n",
    "Heavier Tails: The t-distribution has thicker tails, making the confidence interval wider, which is appropriate for small sample sizes to reflect increased uncertainty.\n"
   ]
  },
  {
   "cell_type": "code",
   "execution_count": 3,
   "id": "72cc900a-3ce5-40c8-a132-a7b3cc694648",
   "metadata": {},
   "outputs": [],
   "source": [
    "import scipy.stats as stats\n",
    "import numpy as np\n",
    "\n"
   ]
  },
  {
   "cell_type": "code",
   "execution_count": 4,
   "id": "ac27b21c-73aa-41fb-82d6-39c4753da7b0",
   "metadata": {},
   "outputs": [
    {
     "name": "stdout",
     "output_type": "stream",
     "text": [
      "99% Confidence Interval using sample standard deviation: (1.09, 1.39)\n",
      "99% Confidence Interval using known population standard deviation: (1.11, 1.37)\n"
     ]
    }
   ],
   "source": [
    "durability = np.array([1.13, 1.55, 1.43, 0.92, 1.25, 1.36, 1.32, 0.85, 1.07, 1.48, 1.20, 1.33, 1.18, 1.22, 1.29])\n",
    "\n",
    "# Sample size\n",
    "n = len(durability)\n",
    "\n",
    "# Sample mean and standard deviation\n",
    "sample_mean = np.mean(durability)\n",
    "sample_std = np.std(durability, ddof=1)\n",
    "\n",
    "# a. Confidence Interval Using Sample Standard Deviation\n",
    "# Degrees of freedom\n",
    "df = n - 1\n",
    "\n",
    "# T-score for 99% confidence\n",
    "t_score = stats.t.ppf(0.995, df)\n",
    "\n",
    "# Margin of error\n",
    "margin_of_error_t = t_score * (sample_std / np.sqrt(n))\n",
    "\n",
    "# Confidence interval\n",
    "ci_lower_t = sample_mean - margin_of_error_t\n",
    "ci_upper_t = sample_mean + margin_of_error_t\n",
    "\n",
    "print(f\"99% Confidence Interval using sample standard deviation: ({ci_lower_t:.2f}, {ci_upper_t:.2f})\")\n",
    "\n",
    "# b. Confidence Interval Using Known Population Standard Deviation\n",
    "# Known population standard deviation\n",
    "population_std = 0.2\n",
    "\n",
    "# Z-score for 99% confidence\n",
    "z_score = stats.norm.ppf(0.995)\n",
    "\n",
    "# Margin of error\n",
    "margin_of_error_z = z_score * (population_std / np.sqrt(n))\n",
    "\n",
    "# Confidence interval\n",
    "ci_lower_z = sample_mean - margin_of_error_z\n",
    "ci_upper_z = sample_mean + margin_of_error_z\n",
    "\n",
    "print(f\"99% Confidence Interval using known population standard deviation: ({ci_lower_z:.2f}, {ci_upper_z:.2f})\")"
   ]
  },
  {
   "cell_type": "code",
   "execution_count": null,
   "id": "78bc32af-2e7c-4ec5-bd58-bfee508c20b6",
   "metadata": {},
   "outputs": [],
   "source": []
  }
 ],
 "metadata": {
  "kernelspec": {
   "display_name": "Python 3 (ipykernel)",
   "language": "python",
   "name": "python3"
  },
  "language_info": {
   "codemirror_mode": {
    "name": "ipython",
    "version": 3
   },
   "file_extension": ".py",
   "mimetype": "text/x-python",
   "name": "python",
   "nbconvert_exporter": "python",
   "pygments_lexer": "ipython3",
   "version": "3.12.3"
  }
 },
 "nbformat": 4,
 "nbformat_minor": 5
}
